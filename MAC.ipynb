{
 "cells": [
  {
   "cell_type": "markdown",
   "metadata": {},
   "source": [
    "# Importing the libraries"
   ]
  },
  {
   "cell_type": "code",
   "execution_count": 7,
   "metadata": {},
   "outputs": [],
   "source": [
    "import numpy as np\n",
    "import matplotlib.pyplot as plt\n",
    "import pandas as pd\n",
    "from alpha_vantage.timeseries import TimeSeries\n",
    "import time\n",
    "from alpha_vantage.techindicators import TechIndicators"
   ]
  },
  {
   "cell_type": "markdown",
   "metadata": {},
   "source": [
    "# API key and ticker symbol"
   ]
  },
  {
   "cell_type": "code",
   "execution_count": 39,
   "metadata": {},
   "outputs": [],
   "source": [
    "api_key = 'HDHS7RJSLYNN07J7'\n",
    "ticker = 'TSLA'"
   ]
  },
  {
   "cell_type": "markdown",
   "metadata": {},
   "source": [
    "# Importing the dataset"
   ]
  },
  {
   "cell_type": "code",
   "execution_count": 40,
   "metadata": {},
   "outputs": [
    {
     "name": "stdout",
     "output_type": "stream",
     "text": [
      "                     1. open  2. high   3. low  4. close  5. volume\n",
      "date                                                               \n",
      "2020-07-09 20:00:00  1393.45   1393.5  1393.45   1393.50     3400.0\n",
      "2020-07-09 19:59:00  1394.00   1394.0  1394.00   1394.00      708.0\n",
      "2020-07-09 19:58:00  1394.88   1394.9  1394.88   1394.90     1475.0\n",
      "2020-07-09 19:57:00  1394.80   1394.8  1394.80   1394.80      680.0\n",
      "2020-07-09 19:56:00  1394.70   1394.7  1394.50   1394.62     1329.0\n"
     ]
    }
   ],
   "source": [
    "ts = TimeSeries(key = api_key, output_format = 'pandas')\n",
    "data, meta_data = ts.get_intraday(symbol = ticker, interval = '1min', outputsize = 'full')\n",
    "print(data.head())"
   ]
  },
  {
   "cell_type": "markdown",
   "metadata": {},
   "source": [
    "# Importing technical indicators"
   ]
  },
  {
   "cell_type": "code",
   "execution_count": 58,
   "metadata": {},
   "outputs": [],
   "source": [
    "period = 60\n",
    "ti = TechIndicators(key = api_key, output_format='pandas')\n",
    "df_sma, metadata_sma = ti.get_sma(symbol=ticker, interval='1min',\n",
    "                                  time_period=period, series_type='close')\n",
    "df_ema, metadata_ema = ti.get_ema(symbol=ticker, interval='1min',\n",
    "                                  time_period=period, series_type='close')"
   ]
  },
  {
   "cell_type": "code",
   "execution_count": 59,
   "metadata": {},
   "outputs": [
    {
     "name": "stdout",
     "output_type": "stream",
     "text": [
      "                           SMA\n",
      "date                          \n",
      "2020-07-06 05:29:00  1278.4578\n",
      "2020-07-06 05:30:00  1278.9495\n",
      "2020-07-06 05:31:00  1279.2328\n",
      "2020-07-06 05:38:00  1279.4495\n",
      "2020-07-06 05:44:00  1279.5995\n"
     ]
    }
   ],
   "source": [
    "print(df_sma.head())"
   ]
  },
  {
   "cell_type": "code",
   "execution_count": 60,
   "metadata": {},
   "outputs": [
    {
     "name": "stdout",
     "output_type": "stream",
     "text": [
      "                           EMA\n",
      "date                          \n",
      "2020-07-06 05:29:00  1278.4578\n",
      "2020-07-06 05:30:00  1278.3281\n",
      "2020-07-06 05:31:00  1278.2845\n",
      "2020-07-06 05:38:00  1278.2424\n",
      "2020-07-06 05:44:00  1278.2345\n"
     ]
    }
   ],
   "source": [
    "print(df_ema.head())"
   ]
  },
  {
   "cell_type": "markdown",
   "metadata": {},
   "source": [
    "# Combining technical endicator tables"
   ]
  },
  {
   "cell_type": "code",
   "execution_count": 65,
   "metadata": {},
   "outputs": [],
   "source": [
    "df_sma.index = df_ema.index\n",
    "df_ti = pd.concat([df_sma, df_ema], axis=1)"
   ]
  },
  {
   "cell_type": "markdown",
   "metadata": {},
   "source": [
    "# Combining close and technical indicator tables"
   ]
  },
  {
   "cell_type": "code",
   "execution_count": 66,
   "metadata": {},
   "outputs": [],
   "source": [
    "df_close = data['4. close'].iloc[period-1::]\n",
    "df_close.index = df_ti.index"
   ]
  },
  {
   "cell_type": "code",
   "execution_count": 67,
   "metadata": {},
   "outputs": [
    {
     "name": "stdout",
     "output_type": "stream",
     "text": [
      "                     4. close        SMA        EMA\n",
      "date                                               \n",
      "2020-07-06 05:29:00   1397.00  1278.4578  1278.4578\n",
      "2020-07-06 05:30:00   1397.70  1278.9495  1278.3281\n",
      "2020-07-06 05:31:00   1396.75  1279.2328  1278.2845\n",
      "2020-07-06 05:38:00   1396.31  1279.4495  1278.2424\n",
      "2020-07-06 05:44:00   1395.00  1279.5995  1278.2345\n"
     ]
    }
   ],
   "source": [
    "total_df = pd.concat([df_close, df_ti], axis = 1)\n",
    "print(total_df.head())"
   ]
  },
  {
   "cell_type": "markdown",
   "metadata": {},
   "source": [
    "# Visualising trends"
   ]
  },
  {
   "cell_type": "code",
   "execution_count": 68,
   "metadata": {},
   "outputs": [
    {
     "data": {
      "image/png": "[encoded data removed]",
      "text/plain": [
       "<Figure size 432x288 with 1 Axes>"
      ]
     },
     "metadata": {
      "needs_background": "light"
     },
     "output_type": "display_data"
    }
   ],
   "source": [
    "total_df.plot()\n",
    "plt.show()"
   ]
  }
 ],
 "metadata": {
  "kernelspec": {
   "display_name": "Python 3",
   "language": "python",
   "name": "python3"
  },
  "language_info": {
   "codemirror_mode": {
    "name": "ipython",
    "version": 3
   },
   "file_extension": ".py",
   "mimetype": "text/x-python",
   "name": "python",
   "nbconvert_exporter": "python",
   "pygments_lexer": "ipython3",
   "version": "3.7.6"
  }
 },
 "nbformat": 4,
 "nbformat_minor": 4
}
